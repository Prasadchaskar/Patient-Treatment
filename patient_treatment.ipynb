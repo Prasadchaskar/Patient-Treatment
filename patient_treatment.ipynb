{
 "cells": [
  {
   "cell_type": "code",
   "execution_count": 1,
   "metadata": {},
   "outputs": [],
   "source": [
    "import pandas as pd"
   ]
  },
  {
   "cell_type": "code",
   "execution_count": 2,
   "metadata": {},
   "outputs": [
    {
     "data": {
      "text/html": [
       "<div>\n",
       "<style scoped>\n",
       "    .dataframe tbody tr th:only-of-type {\n",
       "        vertical-align: middle;\n",
       "    }\n",
       "\n",
       "    .dataframe tbody tr th {\n",
       "        vertical-align: top;\n",
       "    }\n",
       "\n",
       "    .dataframe thead th {\n",
       "        text-align: right;\n",
       "    }\n",
       "</style>\n",
       "<table border=\"1\" class=\"dataframe\">\n",
       "  <thead>\n",
       "    <tr style=\"text-align: right;\">\n",
       "      <th></th>\n",
       "      <th>HAEMATOCRIT</th>\n",
       "      <th>HAEMOGLOBINS</th>\n",
       "      <th>ERYTHROCYTE</th>\n",
       "      <th>LEUCOCYTE</th>\n",
       "      <th>THROMBOCYTE</th>\n",
       "      <th>MCH</th>\n",
       "      <th>MCHC</th>\n",
       "      <th>MCV</th>\n",
       "      <th>AGE</th>\n",
       "      <th>SEX</th>\n",
       "      <th>SOURCE</th>\n",
       "    </tr>\n",
       "  </thead>\n",
       "  <tbody>\n",
       "    <tr>\n",
       "      <th>0</th>\n",
       "      <td>33.8</td>\n",
       "      <td>11.1</td>\n",
       "      <td>4.18</td>\n",
       "      <td>4.6</td>\n",
       "      <td>150</td>\n",
       "      <td>26.6</td>\n",
       "      <td>32.8</td>\n",
       "      <td>80.9</td>\n",
       "      <td>33</td>\n",
       "      <td>F</td>\n",
       "      <td>1</td>\n",
       "    </tr>\n",
       "    <tr>\n",
       "      <th>1</th>\n",
       "      <td>44.6</td>\n",
       "      <td>14.0</td>\n",
       "      <td>6.86</td>\n",
       "      <td>6.3</td>\n",
       "      <td>232</td>\n",
       "      <td>20.4</td>\n",
       "      <td>31.4</td>\n",
       "      <td>65.0</td>\n",
       "      <td>36</td>\n",
       "      <td>M</td>\n",
       "      <td>0</td>\n",
       "    </tr>\n",
       "    <tr>\n",
       "      <th>2</th>\n",
       "      <td>42.9</td>\n",
       "      <td>14.0</td>\n",
       "      <td>4.57</td>\n",
       "      <td>6.2</td>\n",
       "      <td>336</td>\n",
       "      <td>30.6</td>\n",
       "      <td>32.6</td>\n",
       "      <td>93.9</td>\n",
       "      <td>70</td>\n",
       "      <td>F</td>\n",
       "      <td>0</td>\n",
       "    </tr>\n",
       "    <tr>\n",
       "      <th>3</th>\n",
       "      <td>41.9</td>\n",
       "      <td>14.4</td>\n",
       "      <td>4.67</td>\n",
       "      <td>3.5</td>\n",
       "      <td>276</td>\n",
       "      <td>30.8</td>\n",
       "      <td>34.4</td>\n",
       "      <td>89.7</td>\n",
       "      <td>18</td>\n",
       "      <td>F</td>\n",
       "      <td>0</td>\n",
       "    </tr>\n",
       "    <tr>\n",
       "      <th>4</th>\n",
       "      <td>40.6</td>\n",
       "      <td>13.3</td>\n",
       "      <td>4.85</td>\n",
       "      <td>14.9</td>\n",
       "      <td>711</td>\n",
       "      <td>27.4</td>\n",
       "      <td>32.8</td>\n",
       "      <td>83.7</td>\n",
       "      <td>36</td>\n",
       "      <td>M</td>\n",
       "      <td>0</td>\n",
       "    </tr>\n",
       "  </tbody>\n",
       "</table>\n",
       "</div>"
      ],
      "text/plain": [
       "   HAEMATOCRIT  HAEMOGLOBINS  ERYTHROCYTE  LEUCOCYTE  THROMBOCYTE   MCH  MCHC  \\\n",
       "0         33.8          11.1         4.18        4.6          150  26.6  32.8   \n",
       "1         44.6          14.0         6.86        6.3          232  20.4  31.4   \n",
       "2         42.9          14.0         4.57        6.2          336  30.6  32.6   \n",
       "3         41.9          14.4         4.67        3.5          276  30.8  34.4   \n",
       "4         40.6          13.3         4.85       14.9          711  27.4  32.8   \n",
       "\n",
       "    MCV  AGE SEX  SOURCE  \n",
       "0  80.9   33   F       1  \n",
       "1  65.0   36   M       0  \n",
       "2  93.9   70   F       0  \n",
       "3  89.7   18   F       0  \n",
       "4  83.7   36   M       0  "
      ]
     },
     "execution_count": 2,
     "metadata": {},
     "output_type": "execute_result"
    }
   ],
   "source": [
    "df = pd.read_csv('training_set.csv')\n",
    "df.head()"
   ]
  },
  {
   "cell_type": "code",
   "execution_count": 3,
   "metadata": {},
   "outputs": [
    {
     "data": {
      "text/plain": [
       "(3309, 11)"
      ]
     },
     "execution_count": 3,
     "metadata": {},
     "output_type": "execute_result"
    }
   ],
   "source": [
    "df.shape"
   ]
  },
  {
   "cell_type": "code",
   "execution_count": 4,
   "metadata": {},
   "outputs": [
    {
     "data": {
      "text/plain": [
       "HAEMATOCRIT     0\n",
       "HAEMOGLOBINS    0\n",
       "ERYTHROCYTE     0\n",
       "LEUCOCYTE       0\n",
       "THROMBOCYTE     0\n",
       "MCH             0\n",
       "MCHC            0\n",
       "MCV             0\n",
       "AGE             0\n",
       "SEX             0\n",
       "SOURCE          0\n",
       "dtype: int64"
      ]
     },
     "execution_count": 4,
     "metadata": {},
     "output_type": "execute_result"
    }
   ],
   "source": [
    "df.isnull().sum()"
   ]
  },
  {
   "cell_type": "code",
   "execution_count": 7,
   "metadata": {},
   "outputs": [],
   "source": [
    "X = df.drop('SOURCE',axis=1)\n",
    "y = df.SOURCE"
   ]
  },
  {
   "cell_type": "code",
   "execution_count": 8,
   "metadata": {},
   "outputs": [],
   "source": [
    "def fun(df):\n",
    "    if df=='Male':\n",
    "        return 0\n",
    "    else:\n",
    "        return 1\n",
    "X.SEX = X.SEX.apply(fun)"
   ]
  },
  {
   "cell_type": "code",
   "execution_count": 9,
   "metadata": {},
   "outputs": [],
   "source": [
    "from sklearn.model_selection import train_test_split\n",
    "X_train,X_test,y_train,y_test = train_test_split(X,y)"
   ]
  },
  {
   "cell_type": "code",
   "execution_count": 10,
   "metadata": {},
   "outputs": [
    {
     "data": {
      "text/html": [
       "<div>\n",
       "<style scoped>\n",
       "    .dataframe tbody tr th:only-of-type {\n",
       "        vertical-align: middle;\n",
       "    }\n",
       "\n",
       "    .dataframe tbody tr th {\n",
       "        vertical-align: top;\n",
       "    }\n",
       "\n",
       "    .dataframe thead th {\n",
       "        text-align: right;\n",
       "    }\n",
       "</style>\n",
       "<table border=\"1\" class=\"dataframe\">\n",
       "  <thead>\n",
       "    <tr style=\"text-align: right;\">\n",
       "      <th></th>\n",
       "      <th>HAEMATOCRIT</th>\n",
       "      <th>HAEMOGLOBINS</th>\n",
       "      <th>ERYTHROCYTE</th>\n",
       "      <th>LEUCOCYTE</th>\n",
       "      <th>THROMBOCYTE</th>\n",
       "      <th>MCH</th>\n",
       "      <th>MCHC</th>\n",
       "      <th>MCV</th>\n",
       "      <th>AGE</th>\n",
       "      <th>SEX</th>\n",
       "    </tr>\n",
       "  </thead>\n",
       "  <tbody>\n",
       "    <tr>\n",
       "      <th>96</th>\n",
       "      <td>29.1</td>\n",
       "      <td>9.9</td>\n",
       "      <td>3.12</td>\n",
       "      <td>6.7</td>\n",
       "      <td>94</td>\n",
       "      <td>31.7</td>\n",
       "      <td>34.0</td>\n",
       "      <td>93.3</td>\n",
       "      <td>45</td>\n",
       "      <td>1</td>\n",
       "    </tr>\n",
       "    <tr>\n",
       "      <th>2328</th>\n",
       "      <td>29.3</td>\n",
       "      <td>10.2</td>\n",
       "      <td>3.63</td>\n",
       "      <td>5.0</td>\n",
       "      <td>94</td>\n",
       "      <td>28.1</td>\n",
       "      <td>34.8</td>\n",
       "      <td>80.7</td>\n",
       "      <td>59</td>\n",
       "      <td>1</td>\n",
       "    </tr>\n",
       "    <tr>\n",
       "      <th>1866</th>\n",
       "      <td>31.0</td>\n",
       "      <td>10.1</td>\n",
       "      <td>5.05</td>\n",
       "      <td>17.1</td>\n",
       "      <td>424</td>\n",
       "      <td>20.0</td>\n",
       "      <td>32.6</td>\n",
       "      <td>61.4</td>\n",
       "      <td>45</td>\n",
       "      <td>1</td>\n",
       "    </tr>\n",
       "    <tr>\n",
       "      <th>1264</th>\n",
       "      <td>33.3</td>\n",
       "      <td>11.4</td>\n",
       "      <td>3.59</td>\n",
       "      <td>15.9</td>\n",
       "      <td>150</td>\n",
       "      <td>31.8</td>\n",
       "      <td>34.2</td>\n",
       "      <td>92.8</td>\n",
       "      <td>57</td>\n",
       "      <td>1</td>\n",
       "    </tr>\n",
       "    <tr>\n",
       "      <th>93</th>\n",
       "      <td>46.4</td>\n",
       "      <td>15.4</td>\n",
       "      <td>5.45</td>\n",
       "      <td>10.6</td>\n",
       "      <td>344</td>\n",
       "      <td>28.3</td>\n",
       "      <td>33.2</td>\n",
       "      <td>85.1</td>\n",
       "      <td>60</td>\n",
       "      <td>1</td>\n",
       "    </tr>\n",
       "  </tbody>\n",
       "</table>\n",
       "</div>"
      ],
      "text/plain": [
       "      HAEMATOCRIT  HAEMOGLOBINS  ERYTHROCYTE  LEUCOCYTE  THROMBOCYTE   MCH  \\\n",
       "96           29.1           9.9         3.12        6.7           94  31.7   \n",
       "2328         29.3          10.2         3.63        5.0           94  28.1   \n",
       "1866         31.0          10.1         5.05       17.1          424  20.0   \n",
       "1264         33.3          11.4         3.59       15.9          150  31.8   \n",
       "93           46.4          15.4         5.45       10.6          344  28.3   \n",
       "\n",
       "      MCHC   MCV  AGE  SEX  \n",
       "96    34.0  93.3   45    1  \n",
       "2328  34.8  80.7   59    1  \n",
       "1866  32.6  61.4   45    1  \n",
       "1264  34.2  92.8   57    1  \n",
       "93    33.2  85.1   60    1  "
      ]
     },
     "execution_count": 10,
     "metadata": {},
     "output_type": "execute_result"
    }
   ],
   "source": [
    "X_train.head()"
   ]
  },
  {
   "cell_type": "code",
   "execution_count": 12,
   "metadata": {},
   "outputs": [],
   "source": [
    "from sklearn.preprocessing import StandardScaler\n",
    "scalar = StandardScaler()\n",
    "X_train = scalar.fit_transform(X_train)\n",
    "X_test  = scalar.transform(X_test)"
   ]
  },
  {
   "cell_type": "code",
   "execution_count": 24,
   "metadata": {},
   "outputs": [
    {
     "name": "stdout",
     "output_type": "stream",
     "text": [
      "Accuracy Score for Support Vector Machine is :  76.32850241545893 %\n",
      "Accuracy Score for Random Forest is :  75.72463768115942 %\n",
      "Accuracy Score for Logistic Regression is :  72.10144927536231 %\n"
     ]
    }
   ],
   "source": [
    "from sklearn.svm import SVC\n",
    "from sklearn.ensemble import RandomForestClassifier\n",
    "from sklearn.linear_model import LogisticRegression\n",
    "from sklearn.metrics import classification_report\n",
    "models = {\n",
    "    SVC():\"Support Vector Machine\",\n",
    "    RandomForestClassifier():'Random Forest',\n",
    "    LogisticRegression(max_iter=3000):'Logistic Regression'\n",
    "}\n",
    "for m in models.keys():\n",
    "    m.fit(X_train,y_train)\n",
    "for model,name in models.items():\n",
    "     print(f\"Accuracy Score for {name} is : \",model.score(X_test,y_test)*100,\"%\")"
   ]
  }
 ],
 "metadata": {
  "interpreter": {
   "hash": "bbd242ebb1ad9bbe1a3af56534948b3ce0c2363a8560ad41158052ba42d36a7a"
  },
  "kernelspec": {
   "display_name": "Python 3.8.5 64-bit",
   "language": "python",
   "name": "python3"
  },
  "language_info": {
   "codemirror_mode": {
    "name": "ipython",
    "version": 3
   },
   "file_extension": ".py",
   "mimetype": "text/x-python",
   "name": "python",
   "nbconvert_exporter": "python",
   "pygments_lexer": "ipython3",
   "version": "3.8.5"
  },
  "orig_nbformat": 4
 },
 "nbformat": 4,
 "nbformat_minor": 2
}

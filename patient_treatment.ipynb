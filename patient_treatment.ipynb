{
 "cells": [
  {
   "cell_type": "code",
   "execution_count": 23,
   "metadata": {},
   "outputs": [],
   "source": [
    "import pandas as pd"
   ]
  },
  {
   "cell_type": "code",
   "execution_count": 24,
   "metadata": {},
   "outputs": [
    {
     "data": {
      "text/html": [
       "<div>\n",
       "<style scoped>\n",
       "    .dataframe tbody tr th:only-of-type {\n",
       "        vertical-align: middle;\n",
       "    }\n",
       "\n",
       "    .dataframe tbody tr th {\n",
       "        vertical-align: top;\n",
       "    }\n",
       "\n",
       "    .dataframe thead th {\n",
       "        text-align: right;\n",
       "    }\n",
       "</style>\n",
       "<table border=\"1\" class=\"dataframe\">\n",
       "  <thead>\n",
       "    <tr style=\"text-align: right;\">\n",
       "      <th></th>\n",
       "      <th>HAEMATOCRIT</th>\n",
       "      <th>HAEMOGLOBINS</th>\n",
       "      <th>ERYTHROCYTE</th>\n",
       "      <th>LEUCOCYTE</th>\n",
       "      <th>THROMBOCYTE</th>\n",
       "      <th>MCH</th>\n",
       "      <th>MCHC</th>\n",
       "      <th>MCV</th>\n",
       "      <th>AGE</th>\n",
       "      <th>SEX</th>\n",
       "      <th>SOURCE</th>\n",
       "    </tr>\n",
       "  </thead>\n",
       "  <tbody>\n",
       "    <tr>\n",
       "      <th>0</th>\n",
       "      <td>33.8</td>\n",
       "      <td>11.1</td>\n",
       "      <td>4.18</td>\n",
       "      <td>4.6</td>\n",
       "      <td>150</td>\n",
       "      <td>26.6</td>\n",
       "      <td>32.8</td>\n",
       "      <td>80.9</td>\n",
       "      <td>33</td>\n",
       "      <td>F</td>\n",
       "      <td>1</td>\n",
       "    </tr>\n",
       "    <tr>\n",
       "      <th>1</th>\n",
       "      <td>44.6</td>\n",
       "      <td>14.0</td>\n",
       "      <td>6.86</td>\n",
       "      <td>6.3</td>\n",
       "      <td>232</td>\n",
       "      <td>20.4</td>\n",
       "      <td>31.4</td>\n",
       "      <td>65.0</td>\n",
       "      <td>36</td>\n",
       "      <td>M</td>\n",
       "      <td>0</td>\n",
       "    </tr>\n",
       "    <tr>\n",
       "      <th>2</th>\n",
       "      <td>42.9</td>\n",
       "      <td>14.0</td>\n",
       "      <td>4.57</td>\n",
       "      <td>6.2</td>\n",
       "      <td>336</td>\n",
       "      <td>30.6</td>\n",
       "      <td>32.6</td>\n",
       "      <td>93.9</td>\n",
       "      <td>70</td>\n",
       "      <td>F</td>\n",
       "      <td>0</td>\n",
       "    </tr>\n",
       "    <tr>\n",
       "      <th>3</th>\n",
       "      <td>41.9</td>\n",
       "      <td>14.4</td>\n",
       "      <td>4.67</td>\n",
       "      <td>3.5</td>\n",
       "      <td>276</td>\n",
       "      <td>30.8</td>\n",
       "      <td>34.4</td>\n",
       "      <td>89.7</td>\n",
       "      <td>18</td>\n",
       "      <td>F</td>\n",
       "      <td>0</td>\n",
       "    </tr>\n",
       "    <tr>\n",
       "      <th>4</th>\n",
       "      <td>40.6</td>\n",
       "      <td>13.3</td>\n",
       "      <td>4.85</td>\n",
       "      <td>14.9</td>\n",
       "      <td>711</td>\n",
       "      <td>27.4</td>\n",
       "      <td>32.8</td>\n",
       "      <td>83.7</td>\n",
       "      <td>36</td>\n",
       "      <td>M</td>\n",
       "      <td>0</td>\n",
       "    </tr>\n",
       "  </tbody>\n",
       "</table>\n",
       "</div>"
      ],
      "text/plain": [
       "   HAEMATOCRIT  HAEMOGLOBINS  ERYTHROCYTE  LEUCOCYTE  THROMBOCYTE   MCH  MCHC  \\\n",
       "0         33.8          11.1         4.18        4.6          150  26.6  32.8   \n",
       "1         44.6          14.0         6.86        6.3          232  20.4  31.4   \n",
       "2         42.9          14.0         4.57        6.2          336  30.6  32.6   \n",
       "3         41.9          14.4         4.67        3.5          276  30.8  34.4   \n",
       "4         40.6          13.3         4.85       14.9          711  27.4  32.8   \n",
       "\n",
       "    MCV  AGE SEX  SOURCE  \n",
       "0  80.9   33   F       1  \n",
       "1  65.0   36   M       0  \n",
       "2  93.9   70   F       0  \n",
       "3  89.7   18   F       0  \n",
       "4  83.7   36   M       0  "
      ]
     },
     "execution_count": 24,
     "metadata": {},
     "output_type": "execute_result"
    }
   ],
   "source": [
    "df = pd.read_csv('training_set.csv')\n",
    "df.head()"
   ]
  },
  {
   "cell_type": "code",
   "execution_count": 25,
   "metadata": {},
   "outputs": [
    {
     "data": {
      "text/plain": [
       "(3309, 11)"
      ]
     },
     "execution_count": 25,
     "metadata": {},
     "output_type": "execute_result"
    }
   ],
   "source": [
    "df.shape"
   ]
  },
  {
   "cell_type": "code",
   "execution_count": 26,
   "metadata": {},
   "outputs": [
    {
     "data": {
      "text/plain": [
       "HAEMATOCRIT     0\n",
       "HAEMOGLOBINS    0\n",
       "ERYTHROCYTE     0\n",
       "LEUCOCYTE       0\n",
       "THROMBOCYTE     0\n",
       "MCH             0\n",
       "MCHC            0\n",
       "MCV             0\n",
       "AGE             0\n",
       "SEX             0\n",
       "SOURCE          0\n",
       "dtype: int64"
      ]
     },
     "execution_count": 26,
     "metadata": {},
     "output_type": "execute_result"
    }
   ],
   "source": [
    "df.isnull().sum()"
   ]
  },
  {
   "cell_type": "code",
   "execution_count": 27,
   "metadata": {},
   "outputs": [],
   "source": [
    "X = df.drop('SOURCE',axis=1)\n",
    "y = df.SOURCE"
   ]
  },
  {
   "cell_type": "code",
   "execution_count": 28,
   "metadata": {},
   "outputs": [],
   "source": [
    "def fun(df):\n",
    "    if df=='Male':\n",
    "        return 0\n",
    "    else:\n",
    "        return 1\n",
    "X.SEX = X.SEX.apply(fun)"
   ]
  },
  {
   "cell_type": "code",
   "execution_count": 29,
   "metadata": {},
   "outputs": [],
   "source": [
    "from sklearn.model_selection import train_test_split\n",
    "X_train,X_test,y_train,y_test = train_test_split(X,y)"
   ]
  },
  {
   "cell_type": "code",
   "execution_count": 30,
   "metadata": {},
   "outputs": [
    {
     "data": {
      "text/html": [
       "<div>\n",
       "<style scoped>\n",
       "    .dataframe tbody tr th:only-of-type {\n",
       "        vertical-align: middle;\n",
       "    }\n",
       "\n",
       "    .dataframe tbody tr th {\n",
       "        vertical-align: top;\n",
       "    }\n",
       "\n",
       "    .dataframe thead th {\n",
       "        text-align: right;\n",
       "    }\n",
       "</style>\n",
       "<table border=\"1\" class=\"dataframe\">\n",
       "  <thead>\n",
       "    <tr style=\"text-align: right;\">\n",
       "      <th></th>\n",
       "      <th>HAEMATOCRIT</th>\n",
       "      <th>HAEMOGLOBINS</th>\n",
       "      <th>ERYTHROCYTE</th>\n",
       "      <th>LEUCOCYTE</th>\n",
       "      <th>THROMBOCYTE</th>\n",
       "      <th>MCH</th>\n",
       "      <th>MCHC</th>\n",
       "      <th>MCV</th>\n",
       "      <th>AGE</th>\n",
       "      <th>SEX</th>\n",
       "    </tr>\n",
       "  </thead>\n",
       "  <tbody>\n",
       "    <tr>\n",
       "      <th>2172</th>\n",
       "      <td>42.4</td>\n",
       "      <td>14.3</td>\n",
       "      <td>4.98</td>\n",
       "      <td>2.4</td>\n",
       "      <td>50</td>\n",
       "      <td>28.7</td>\n",
       "      <td>33.7</td>\n",
       "      <td>85.1</td>\n",
       "      <td>26</td>\n",
       "      <td>1</td>\n",
       "    </tr>\n",
       "    <tr>\n",
       "      <th>2548</th>\n",
       "      <td>24.7</td>\n",
       "      <td>8.5</td>\n",
       "      <td>2.55</td>\n",
       "      <td>4.7</td>\n",
       "      <td>434</td>\n",
       "      <td>33.3</td>\n",
       "      <td>34.4</td>\n",
       "      <td>96.9</td>\n",
       "      <td>14</td>\n",
       "      <td>1</td>\n",
       "    </tr>\n",
       "    <tr>\n",
       "      <th>907</th>\n",
       "      <td>40.2</td>\n",
       "      <td>13.7</td>\n",
       "      <td>4.73</td>\n",
       "      <td>2.4</td>\n",
       "      <td>60</td>\n",
       "      <td>29.0</td>\n",
       "      <td>34.1</td>\n",
       "      <td>85.0</td>\n",
       "      <td>25</td>\n",
       "      <td>1</td>\n",
       "    </tr>\n",
       "    <tr>\n",
       "      <th>113</th>\n",
       "      <td>42.0</td>\n",
       "      <td>14.3</td>\n",
       "      <td>4.96</td>\n",
       "      <td>14.3</td>\n",
       "      <td>216</td>\n",
       "      <td>28.8</td>\n",
       "      <td>34.0</td>\n",
       "      <td>84.7</td>\n",
       "      <td>20</td>\n",
       "      <td>1</td>\n",
       "    </tr>\n",
       "    <tr>\n",
       "      <th>2662</th>\n",
       "      <td>29.7</td>\n",
       "      <td>10.0</td>\n",
       "      <td>3.57</td>\n",
       "      <td>31.6</td>\n",
       "      <td>121</td>\n",
       "      <td>28.0</td>\n",
       "      <td>33.7</td>\n",
       "      <td>83.2</td>\n",
       "      <td>35</td>\n",
       "      <td>1</td>\n",
       "    </tr>\n",
       "  </tbody>\n",
       "</table>\n",
       "</div>"
      ],
      "text/plain": [
       "      HAEMATOCRIT  HAEMOGLOBINS  ERYTHROCYTE  LEUCOCYTE  THROMBOCYTE   MCH  \\\n",
       "2172         42.4          14.3         4.98        2.4           50  28.7   \n",
       "2548         24.7           8.5         2.55        4.7          434  33.3   \n",
       "907          40.2          13.7         4.73        2.4           60  29.0   \n",
       "113          42.0          14.3         4.96       14.3          216  28.8   \n",
       "2662         29.7          10.0         3.57       31.6          121  28.0   \n",
       "\n",
       "      MCHC   MCV  AGE  SEX  \n",
       "2172  33.7  85.1   26    1  \n",
       "2548  34.4  96.9   14    1  \n",
       "907   34.1  85.0   25    1  \n",
       "113   34.0  84.7   20    1  \n",
       "2662  33.7  83.2   35    1  "
      ]
     },
     "execution_count": 30,
     "metadata": {},
     "output_type": "execute_result"
    }
   ],
   "source": [
    "X_train.head()"
   ]
  },
  {
   "cell_type": "code",
   "execution_count": 31,
   "metadata": {},
   "outputs": [],
   "source": [
    "from sklearn.preprocessing import StandardScaler\n",
    "scalar = StandardScaler()\n",
    "X_train = scalar.fit_transform(X_train)\n",
    "X_test  = scalar.transform(X_test)"
   ]
  },
  {
   "cell_type": "code",
   "execution_count": 32,
   "metadata": {},
   "outputs": [
    {
     "name": "stdout",
     "output_type": "stream",
     "text": [
      "Epoch 1/50\n",
      "78/78 [==============================] - 0s 630us/step - loss: 0.6253 - accuracy: 0.6759\n",
      "Epoch 2/50\n",
      "78/78 [==============================] - 0s 712us/step - loss: 0.5598 - accuracy: 0.7291\n",
      "Epoch 3/50\n",
      "78/78 [==============================] - 0s 674us/step - loss: 0.5379 - accuracy: 0.7412\n",
      "Epoch 4/50\n",
      "78/78 [==============================] - 0s 751us/step - loss: 0.5334 - accuracy: 0.7428\n",
      "Epoch 5/50\n",
      "78/78 [==============================] - 0s 971us/step - loss: 0.5281 - accuracy: 0.7477\n",
      "Epoch 6/50\n",
      "78/78 [==============================] - 0s 881us/step - loss: 0.5224 - accuracy: 0.7477\n",
      "Epoch 7/50\n",
      "78/78 [==============================] - 0s 699us/step - loss: 0.5211 - accuracy: 0.7525\n",
      "Epoch 8/50\n",
      "78/78 [==============================] - 0s 674us/step - loss: 0.5156 - accuracy: 0.7557\n",
      "Epoch 9/50\n",
      "78/78 [==============================] - 0s 725us/step - loss: 0.5116 - accuracy: 0.7598\n",
      "Epoch 10/50\n",
      "78/78 [==============================] - 0s 790us/step - loss: 0.5084 - accuracy: 0.7626\n",
      "Epoch 11/50\n",
      "78/78 [==============================] - 0s 746us/step - loss: 0.5044 - accuracy: 0.7666\n",
      "Epoch 12/50\n",
      "78/78 [==============================] - 0s 751us/step - loss: 0.5071 - accuracy: 0.7602\n",
      "Epoch 13/50\n",
      "78/78 [==============================] - 0s 889us/step - loss: 0.4990 - accuracy: 0.7662\n",
      "Epoch 14/50\n",
      "78/78 [==============================] - 0s 695us/step - loss: 0.4934 - accuracy: 0.7715\n",
      "Epoch 15/50\n",
      "78/78 [==============================] - 0s 1ms/step - loss: 0.4892 - accuracy: 0.7723\n",
      "Epoch 16/50\n",
      "78/78 [==============================] - 0s 802us/step - loss: 0.4861 - accuracy: 0.7755\n",
      "Epoch 17/50\n",
      "78/78 [==============================] - 0s 583us/step - loss: 0.4798 - accuracy: 0.7779\n",
      "Epoch 18/50\n",
      "78/78 [==============================] - 0s 557us/step - loss: 0.4803 - accuracy: 0.7707\n",
      "Epoch 19/50\n",
      "78/78 [==============================] - 0s 576us/step - loss: 0.4766 - accuracy: 0.7791\n",
      "Epoch 20/50\n",
      "78/78 [==============================] - 0s 570us/step - loss: 0.4703 - accuracy: 0.7827\n",
      "Epoch 21/50\n",
      "78/78 [==============================] - 0s 573us/step - loss: 0.4665 - accuracy: 0.7844\n",
      "Epoch 22/50\n",
      "78/78 [==============================] - 0s 557us/step - loss: 0.4638 - accuracy: 0.7872\n",
      "Epoch 23/50\n",
      "78/78 [==============================] - 0s 604us/step - loss: 0.4627 - accuracy: 0.7868\n",
      "Epoch 24/50\n",
      "78/78 [==============================] - 0s 553us/step - loss: 0.4510 - accuracy: 0.7952\n",
      "Epoch 25/50\n",
      "78/78 [==============================] - 0s 595us/step - loss: 0.4489 - accuracy: 0.7880\n",
      "Epoch 26/50\n",
      "78/78 [==============================] - 0s 583us/step - loss: 0.4437 - accuracy: 0.7993\n",
      "Epoch 27/50\n",
      "78/78 [==============================] - 0s 426us/step - loss: 0.4446 - accuracy: 0.7985\n",
      "Epoch 28/50\n",
      "78/78 [==============================] - 0s 590us/step - loss: 0.4379 - accuracy: 0.7997\n",
      "Epoch 29/50\n",
      "78/78 [==============================] - 0s 592us/step - loss: 0.4386 - accuracy: 0.7997\n",
      "Epoch 30/50\n",
      "78/78 [==============================] - 0s 557us/step - loss: 0.4275 - accuracy: 0.8150\n",
      "Epoch 31/50\n",
      "78/78 [==============================] - 0s 603us/step - loss: 0.4256 - accuracy: 0.8077\n",
      "Epoch 32/50\n",
      "78/78 [==============================] - 0s 531us/step - loss: 0.4193 - accuracy: 0.8130\n",
      "Epoch 33/50\n",
      "78/78 [==============================] - 0s 595us/step - loss: 0.4247 - accuracy: 0.8029\n",
      "Epoch 34/50\n",
      "78/78 [==============================] - 0s 553us/step - loss: 0.4102 - accuracy: 0.8194\n",
      "Epoch 35/50\n",
      "78/78 [==============================] - 0s 526us/step - loss: 0.4035 - accuracy: 0.8186\n",
      "Epoch 36/50\n",
      "78/78 [==============================] - 0s 591us/step - loss: 0.4070 - accuracy: 0.8239\n",
      "Epoch 37/50\n",
      "78/78 [==============================] - 0s 553us/step - loss: 0.4064 - accuracy: 0.8227\n",
      "Epoch 38/50\n",
      "78/78 [==============================] - 0s 557us/step - loss: 0.3967 - accuracy: 0.8214\n",
      "Epoch 39/50\n",
      "78/78 [==============================] - 0s 578us/step - loss: 0.3897 - accuracy: 0.8251\n",
      "Epoch 40/50\n",
      "78/78 [==============================] - 0s 553us/step - loss: 0.3848 - accuracy: 0.8279\n",
      "Epoch 41/50\n",
      "78/78 [==============================] - 0s 543us/step - loss: 0.3811 - accuracy: 0.8351\n",
      "Epoch 42/50\n",
      "78/78 [==============================] - 0s 544us/step - loss: 0.3846 - accuracy: 0.8275\n",
      "Epoch 43/50\n",
      "78/78 [==============================] - 0s 604us/step - loss: 0.3734 - accuracy: 0.8331\n",
      "Epoch 44/50\n",
      "78/78 [==============================] - 0s 553us/step - loss: 0.3658 - accuracy: 0.8364\n",
      "Epoch 45/50\n",
      "78/78 [==============================] - 0s 569us/step - loss: 0.3634 - accuracy: 0.8380\n",
      "Epoch 46/50\n",
      "78/78 [==============================] - 0s 543us/step - loss: 0.3675 - accuracy: 0.8319\n",
      "Epoch 47/50\n",
      "78/78 [==============================] - 0s 604us/step - loss: 0.3516 - accuracy: 0.8444\n",
      "Epoch 48/50\n",
      "78/78 [==============================] - 0s 552us/step - loss: 0.3461 - accuracy: 0.8509\n",
      "Epoch 49/50\n",
      "78/78 [==============================] - 0s 604us/step - loss: 0.3543 - accuracy: 0.8380\n",
      "Epoch 50/50\n",
      "78/78 [==============================] - 0s 561us/step - loss: 0.3548 - accuracy: 0.8452\n"
     ]
    }
   ],
   "source": [
    "from tensorflow import keras\n",
    "model = keras.Sequential([\n",
    "    keras.layers.Dense(25, input_shape=(10,),activation='relu'),\n",
    "    keras.layers.Dense(45,activation='relu'),\n",
    "    keras.layers.Dense(55, activation='relu'),\n",
    "    keras.layers.Dense(65, activation='relu'),\n",
    "    # keras.layers.Dense(75, activation='relu'),\n",
    "    # keras.layers.Dense(85, activation='relu'),\n",
    "    keras.layers.Dense(1, activation='sigmoid')\n",
    "])\n",
    "# opt = keras.optimizers.Adam(learning_rate=0.01)\n",
    "model.compile(optimizer='Adam',\n",
    "              loss='binary_crossentropy',\n",
    "              metrics=['accuracy'])\n",
    "histroy = model.fit(X_train, y_train, epochs=50)"
   ]
  },
  {
   "cell_type": "code",
   "execution_count": 33,
   "metadata": {},
   "outputs": [],
   "source": [
    "yp = model.predict(X_test)\n",
    "y_pred = []\n",
    "for element in yp:\n",
    "    if element > 0.5:\n",
    "        y_pred.append(1)\n",
    "    else:\n",
    "        y_pred.append(0)"
   ]
  },
  {
   "cell_type": "code",
   "execution_count": 34,
   "metadata": {},
   "outputs": [
    {
     "name": "stdout",
     "output_type": "stream",
     "text": [
      "              precision    recall  f1-score   support\n",
      "\n",
      "           0       0.74      0.84      0.78       486\n",
      "           1       0.72      0.57      0.64       342\n",
      "\n",
      "    accuracy                           0.73       828\n",
      "   macro avg       0.73      0.71      0.71       828\n",
      "weighted avg       0.73      0.73      0.72       828\n",
      "\n"
     ]
    }
   ],
   "source": [
    "from sklearn.metrics import classification_report\n",
    "print(classification_report(y_test,y_pred))"
   ]
  },
  {
   "cell_type": "code",
   "execution_count": 58,
   "metadata": {},
   "outputs": [
    {
     "data": {
      "image/png": "[encoded data removed]",
      "text/plain": [
       "<Figure size 576x504 with 1 Axes>"
      ]
     },
     "metadata": {},
     "output_type": "display_data"
    }
   ],
   "source": [
    "import matplotlib.pyplot as plt\n",
    "plt.style.use('ggplot')\n",
    "plt.figure(figsize=(8,7))\n",
    "plt.plot(histroy.history['accuracy'],'b',linewidth=3,label='Training accuracy')\n",
    "plt.title('model accuracy')\n",
    "plt.ylabel('accuracy')\n",
    "plt.xlabel('epoch')\n",
    "plt.legend(['train', 'test'], loc='upper left')\n",
    "plt.legend()\n",
    "plt.show()"
   ]
  }
 ],
 "metadata": {
  "interpreter": {
   "hash": "bbd242ebb1ad9bbe1a3af56534948b3ce0c2363a8560ad41158052ba42d36a7a"
  },
  "kernelspec": {
   "display_name": "Python 3.8.5 64-bit",
   "language": "python",
   "name": "python3"
  },
  "language_info": {
   "codemirror_mode": {
    "name": "ipython",
    "version": 3
   },
   "file_extension": ".py",
   "mimetype": "text/x-python",
   "name": "python",
   "nbconvert_exporter": "python",
   "pygments_lexer": "ipython3",
   "version": "3.8.5"
  },
  "orig_nbformat": 4
 },
 "nbformat": 4,
 "nbformat_minor": 2
}

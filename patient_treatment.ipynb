{
 "cells": [
  {
   "cell_type": "code",
   "execution_count": 417,
   "metadata": {},
   "outputs": [],
   "source": [
    "import pandas as pd"
   ]
  },
  {
   "cell_type": "code",
   "execution_count": 418,
   "metadata": {},
   "outputs": [
    {
     "data": {
      "text/html": [
       "<div>\n",
       "<style scoped>\n",
       "    .dataframe tbody tr th:only-of-type {\n",
       "        vertical-align: middle;\n",
       "    }\n",
       "\n",
       "    .dataframe tbody tr th {\n",
       "        vertical-align: top;\n",
       "    }\n",
       "\n",
       "    .dataframe thead th {\n",
       "        text-align: right;\n",
       "    }\n",
       "</style>\n",
       "<table border=\"1\" class=\"dataframe\">\n",
       "  <thead>\n",
       "    <tr style=\"text-align: right;\">\n",
       "      <th></th>\n",
       "      <th>HAEMATOCRIT</th>\n",
       "      <th>HAEMOGLOBINS</th>\n",
       "      <th>ERYTHROCYTE</th>\n",
       "      <th>LEUCOCYTE</th>\n",
       "      <th>THROMBOCYTE</th>\n",
       "      <th>MCH</th>\n",
       "      <th>MCHC</th>\n",
       "      <th>MCV</th>\n",
       "      <th>AGE</th>\n",
       "      <th>SEX</th>\n",
       "      <th>SOURCE</th>\n",
       "    </tr>\n",
       "  </thead>\n",
       "  <tbody>\n",
       "    <tr>\n",
       "      <th>0</th>\n",
       "      <td>33.8</td>\n",
       "      <td>11.1</td>\n",
       "      <td>4.18</td>\n",
       "      <td>4.6</td>\n",
       "      <td>150</td>\n",
       "      <td>26.6</td>\n",
       "      <td>32.8</td>\n",
       "      <td>80.9</td>\n",
       "      <td>33</td>\n",
       "      <td>F</td>\n",
       "      <td>1</td>\n",
       "    </tr>\n",
       "    <tr>\n",
       "      <th>1</th>\n",
       "      <td>44.6</td>\n",
       "      <td>14.0</td>\n",
       "      <td>6.86</td>\n",
       "      <td>6.3</td>\n",
       "      <td>232</td>\n",
       "      <td>20.4</td>\n",
       "      <td>31.4</td>\n",
       "      <td>65.0</td>\n",
       "      <td>36</td>\n",
       "      <td>M</td>\n",
       "      <td>0</td>\n",
       "    </tr>\n",
       "    <tr>\n",
       "      <th>2</th>\n",
       "      <td>42.9</td>\n",
       "      <td>14.0</td>\n",
       "      <td>4.57</td>\n",
       "      <td>6.2</td>\n",
       "      <td>336</td>\n",
       "      <td>30.6</td>\n",
       "      <td>32.6</td>\n",
       "      <td>93.9</td>\n",
       "      <td>70</td>\n",
       "      <td>F</td>\n",
       "      <td>0</td>\n",
       "    </tr>\n",
       "    <tr>\n",
       "      <th>3</th>\n",
       "      <td>41.9</td>\n",
       "      <td>14.4</td>\n",
       "      <td>4.67</td>\n",
       "      <td>3.5</td>\n",
       "      <td>276</td>\n",
       "      <td>30.8</td>\n",
       "      <td>34.4</td>\n",
       "      <td>89.7</td>\n",
       "      <td>18</td>\n",
       "      <td>F</td>\n",
       "      <td>0</td>\n",
       "    </tr>\n",
       "    <tr>\n",
       "      <th>4</th>\n",
       "      <td>40.6</td>\n",
       "      <td>13.3</td>\n",
       "      <td>4.85</td>\n",
       "      <td>14.9</td>\n",
       "      <td>711</td>\n",
       "      <td>27.4</td>\n",
       "      <td>32.8</td>\n",
       "      <td>83.7</td>\n",
       "      <td>36</td>\n",
       "      <td>M</td>\n",
       "      <td>0</td>\n",
       "    </tr>\n",
       "  </tbody>\n",
       "</table>\n",
       "</div>"
      ],
      "text/plain": [
       "   HAEMATOCRIT  HAEMOGLOBINS  ERYTHROCYTE  LEUCOCYTE  THROMBOCYTE   MCH  MCHC  \\\n",
       "0         33.8          11.1         4.18        4.6          150  26.6  32.8   \n",
       "1         44.6          14.0         6.86        6.3          232  20.4  31.4   \n",
       "2         42.9          14.0         4.57        6.2          336  30.6  32.6   \n",
       "3         41.9          14.4         4.67        3.5          276  30.8  34.4   \n",
       "4         40.6          13.3         4.85       14.9          711  27.4  32.8   \n",
       "\n",
       "    MCV  AGE SEX  SOURCE  \n",
       "0  80.9   33   F       1  \n",
       "1  65.0   36   M       0  \n",
       "2  93.9   70   F       0  \n",
       "3  89.7   18   F       0  \n",
       "4  83.7   36   M       0  "
      ]
     },
     "execution_count": 418,
     "metadata": {},
     "output_type": "execute_result"
    }
   ],
   "source": [
    "df = pd.read_csv('training_set.csv')\n",
    "df.head()"
   ]
  },
  {
   "cell_type": "code",
   "execution_count": 419,
   "metadata": {},
   "outputs": [
    {
     "data": {
      "text/plain": [
       "(3309, 11)"
      ]
     },
     "execution_count": 419,
     "metadata": {},
     "output_type": "execute_result"
    }
   ],
   "source": [
    "df.shape"
   ]
  },
  {
   "cell_type": "code",
   "execution_count": 420,
   "metadata": {},
   "outputs": [
    {
     "data": {
      "text/plain": [
       "HAEMATOCRIT     0\n",
       "HAEMOGLOBINS    0\n",
       "ERYTHROCYTE     0\n",
       "LEUCOCYTE       0\n",
       "THROMBOCYTE     0\n",
       "MCH             0\n",
       "MCHC            0\n",
       "MCV             0\n",
       "AGE             0\n",
       "SEX             0\n",
       "SOURCE          0\n",
       "dtype: int64"
      ]
     },
     "execution_count": 420,
     "metadata": {},
     "output_type": "execute_result"
    }
   ],
   "source": [
    "df.isnull().sum()"
   ]
  },
  {
   "cell_type": "code",
   "execution_count": 421,
   "metadata": {},
   "outputs": [],
   "source": [
    "X = df.drop('SOURCE',axis=1)\n",
    "y = df.SOURCE"
   ]
  },
  {
   "cell_type": "code",
   "execution_count": 422,
   "metadata": {},
   "outputs": [],
   "source": [
    "def fun(df):\n",
    "    if df=='Male':\n",
    "        return 0\n",
    "    else:\n",
    "        return 1\n",
    "X.SEX = X.SEX.apply(fun)"
   ]
  },
  {
   "cell_type": "code",
   "execution_count": 423,
   "metadata": {},
   "outputs": [],
   "source": [
    "from sklearn.model_selection import train_test_split\n",
    "X_train,X_test,y_train,y_test = train_test_split(X,y,test_size=0.1,random_state=11)"
   ]
  },
  {
   "cell_type": "code",
   "execution_count": 424,
   "metadata": {},
   "outputs": [
    {
     "data": {
      "text/html": [
       "<div>\n",
       "<style scoped>\n",
       "    .dataframe tbody tr th:only-of-type {\n",
       "        vertical-align: middle;\n",
       "    }\n",
       "\n",
       "    .dataframe tbody tr th {\n",
       "        vertical-align: top;\n",
       "    }\n",
       "\n",
       "    .dataframe thead th {\n",
       "        text-align: right;\n",
       "    }\n",
       "</style>\n",
       "<table border=\"1\" class=\"dataframe\">\n",
       "  <thead>\n",
       "    <tr style=\"text-align: right;\">\n",
       "      <th></th>\n",
       "      <th>HAEMATOCRIT</th>\n",
       "      <th>HAEMOGLOBINS</th>\n",
       "      <th>ERYTHROCYTE</th>\n",
       "      <th>LEUCOCYTE</th>\n",
       "      <th>THROMBOCYTE</th>\n",
       "      <th>MCH</th>\n",
       "      <th>MCHC</th>\n",
       "      <th>MCV</th>\n",
       "      <th>AGE</th>\n",
       "      <th>SEX</th>\n",
       "    </tr>\n",
       "  </thead>\n",
       "  <tbody>\n",
       "    <tr>\n",
       "      <th>1822</th>\n",
       "      <td>24.4</td>\n",
       "      <td>7.4</td>\n",
       "      <td>3.06</td>\n",
       "      <td>7.3</td>\n",
       "      <td>247</td>\n",
       "      <td>24.2</td>\n",
       "      <td>30.3</td>\n",
       "      <td>79.7</td>\n",
       "      <td>37</td>\n",
       "      <td>1</td>\n",
       "    </tr>\n",
       "    <tr>\n",
       "      <th>2363</th>\n",
       "      <td>43.4</td>\n",
       "      <td>15.6</td>\n",
       "      <td>5.40</td>\n",
       "      <td>7.2</td>\n",
       "      <td>284</td>\n",
       "      <td>28.9</td>\n",
       "      <td>35.9</td>\n",
       "      <td>80.4</td>\n",
       "      <td>11</td>\n",
       "      <td>1</td>\n",
       "    </tr>\n",
       "    <tr>\n",
       "      <th>2285</th>\n",
       "      <td>40.8</td>\n",
       "      <td>13.7</td>\n",
       "      <td>5.49</td>\n",
       "      <td>14.9</td>\n",
       "      <td>506</td>\n",
       "      <td>25.0</td>\n",
       "      <td>33.6</td>\n",
       "      <td>74.3</td>\n",
       "      <td>21</td>\n",
       "      <td>1</td>\n",
       "    </tr>\n",
       "    <tr>\n",
       "      <th>83</th>\n",
       "      <td>30.6</td>\n",
       "      <td>10.2</td>\n",
       "      <td>3.95</td>\n",
       "      <td>6.0</td>\n",
       "      <td>94</td>\n",
       "      <td>25.8</td>\n",
       "      <td>33.3</td>\n",
       "      <td>77.5</td>\n",
       "      <td>8</td>\n",
       "      <td>1</td>\n",
       "    </tr>\n",
       "    <tr>\n",
       "      <th>1254</th>\n",
       "      <td>23.5</td>\n",
       "      <td>8.0</td>\n",
       "      <td>2.76</td>\n",
       "      <td>4.0</td>\n",
       "      <td>60</td>\n",
       "      <td>29.0</td>\n",
       "      <td>34.0</td>\n",
       "      <td>85.1</td>\n",
       "      <td>60</td>\n",
       "      <td>1</td>\n",
       "    </tr>\n",
       "  </tbody>\n",
       "</table>\n",
       "</div>"
      ],
      "text/plain": [
       "      HAEMATOCRIT  HAEMOGLOBINS  ERYTHROCYTE  LEUCOCYTE  THROMBOCYTE   MCH  \\\n",
       "1822         24.4           7.4         3.06        7.3          247  24.2   \n",
       "2363         43.4          15.6         5.40        7.2          284  28.9   \n",
       "2285         40.8          13.7         5.49       14.9          506  25.0   \n",
       "83           30.6          10.2         3.95        6.0           94  25.8   \n",
       "1254         23.5           8.0         2.76        4.0           60  29.0   \n",
       "\n",
       "      MCHC   MCV  AGE  SEX  \n",
       "1822  30.3  79.7   37    1  \n",
       "2363  35.9  80.4   11    1  \n",
       "2285  33.6  74.3   21    1  \n",
       "83    33.3  77.5    8    1  \n",
       "1254  34.0  85.1   60    1  "
      ]
     },
     "execution_count": 424,
     "metadata": {},
     "output_type": "execute_result"
    }
   ],
   "source": [
    "X_train.head()"
   ]
  },
  {
   "cell_type": "code",
   "execution_count": 425,
   "metadata": {},
   "outputs": [],
   "source": [
    "from sklearn.preprocessing import StandardScaler\n",
    "scalar = StandardScaler()\n",
    "X_train = scalar.fit_transform(X_train)\n",
    "X_test  = scalar.transform(X_test)"
   ]
  },
  {
   "cell_type": "code",
   "execution_count": 426,
   "metadata": {},
   "outputs": [
    {
     "name": "stdout",
     "output_type": "stream",
     "text": [
      "Accuracy Score for Logistic Regression is :  73.71601208459214 %\n",
      "Accuracy Score for Support Vector Machine is :  75.52870090634441 %\n",
      "Accuracy Score for Random Forest is :  76.43504531722054 %\n"
     ]
    }
   ],
   "source": [
    "from sklearn.svm import SVC\n",
    "from sklearn.metrics import classification_report,f1_score\n",
    "from sklearn.ensemble import RandomForestClassifier\n",
    "from sklearn.linear_model import LogisticRegression\n",
    "models = {\n",
    "    LogisticRegression(max_iter=500):'Logistic Regression',\n",
    "    SVC():\"Support Vector Machine\",\n",
    "    RandomForestClassifier():'Random Forest'\n",
    "}\n",
    "for m in models.keys():\n",
    "    m.fit(X_train,y_train)\n",
    "for model,name in models.items():\n",
    "     print(f\"Accuracy Score for {name} is : \",model.score(X_test,y_test)*100,\"%\")"
   ]
  },
  {
   "cell_type": "code",
   "execution_count": 427,
   "metadata": {},
   "outputs": [
    {
     "data": {
      "text/plain": [
       "0.7854984894259819"
      ]
     },
     "execution_count": 427,
     "metadata": {},
     "output_type": "execute_result"
    }
   ],
   "source": [
    "sv = RandomForestClassifier(n_estimators=200,\n",
    "min_samples_split= 2,\n",
    " min_samples_leaf= 2,\n",
    "max_features= 'auto',\n",
    "max_depth= 70,\n",
    "bootstrap= True)\n",
    "sv.fit(X_train,y_train)\n",
    "sv.score(X_test,y_test)"
   ]
  },
  {
   "cell_type": "code",
   "execution_count": 428,
   "metadata": {},
   "outputs": [
    {
     "name": "stdout",
     "output_type": "stream",
     "text": [
      "              precision    recall  f1-score   support\n",
      "\n",
      "           0       0.78      0.88      0.83       192\n",
      "           1       0.80      0.65      0.72       139\n",
      "\n",
      "    accuracy                           0.79       331\n",
      "   macro avg       0.79      0.77      0.77       331\n",
      "weighted avg       0.79      0.79      0.78       331\n",
      "\n"
     ]
    }
   ],
   "source": [
    "pred = sv.predict(X_test)\n",
    "print(classification_report(y_test,pred))"
   ]
  }
 ],
 "metadata": {
  "interpreter": {
   "hash": "bbd242ebb1ad9bbe1a3af56534948b3ce0c2363a8560ad41158052ba42d36a7a"
  },
  "kernelspec": {
   "display_name": "Python 3.8.5 64-bit",
   "language": "python",
   "name": "python3"
  },
  "language_info": {
   "codemirror_mode": {
    "name": "ipython",
    "version": 3
   },
   "file_extension": ".py",
   "mimetype": "text/x-python",
   "name": "python",
   "nbconvert_exporter": "python",
   "pygments_lexer": "ipython3",
   "version": "3.8.5"
  },
  "orig_nbformat": 4
 },
 "nbformat": 4,
 "nbformat_minor": 2
}
